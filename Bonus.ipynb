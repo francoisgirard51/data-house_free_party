{
 "cells": [
  {
   "cell_type": "markdown",
   "metadata": {},
   "source": [
    "# Bonus"
   ]
  },
  {
   "cell_type": "markdown",
   "metadata": {},
   "source": [
    "The dataset you used in Challenge 1 and 2, was in fact an engineered version of a [public NBA dataset available on Kaggle](https://www.kaggle.com/datasets/visalakshiiyer/nba-match-data) 🏀\n",
    "\n",
    "🎯 Investigate the full feature set, do an exploratory data analysis, experiment with other features and approaches to improve your ability to predict a player's *Win Above Replacement* rating.\n",
    "\n",
    "⚠️ Don't forget to diagnose model performance along the way."
   ]
  },
  {
   "cell_type": "code",
   "execution_count": null,
   "metadata": {},
   "outputs": [],
   "source": []
  },
  {
   "cell_type": "markdown",
   "metadata": {},
   "source": [
    "# 🏁"
   ]
  }
 ],
 "metadata": {
  "kernelspec": {
   "display_name": "Python 3",
   "language": "python",
   "name": "python3"
  }
 },
 "nbformat": 4,
 "nbformat_minor": 4
}
